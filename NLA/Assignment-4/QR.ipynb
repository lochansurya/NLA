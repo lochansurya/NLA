{
 "cells": [
  {
   "cell_type": "code",
   "execution_count": 22,
   "metadata": {},
   "outputs": [
    {
     "data": {
      "text/html": [
       "<div>\n",
       "<style scoped>\n",
       "    .dataframe tbody tr th:only-of-type {\n",
       "        vertical-align: middle;\n",
       "    }\n",
       "\n",
       "    .dataframe tbody tr th {\n",
       "        vertical-align: top;\n",
       "    }\n",
       "\n",
       "    .dataframe thead th {\n",
       "        text-align: right;\n",
       "    }\n",
       "</style>\n",
       "<table border=\"1\" class=\"dataframe\">\n",
       "  <thead>\n",
       "    <tr style=\"text-align: right;\">\n",
       "      <th></th>\n",
       "      <th>t</th>\n",
       "      <th>y</th>\n",
       "    </tr>\n",
       "  </thead>\n",
       "  <tbody>\n",
       "    <tr>\n",
       "      <th>0</th>\n",
       "      <td>0.000000</td>\n",
       "      <td>0.000000</td>\n",
       "    </tr>\n",
       "    <tr>\n",
       "      <th>1</th>\n",
       "      <td>0.010101</td>\n",
       "      <td>0.100838</td>\n",
       "    </tr>\n",
       "    <tr>\n",
       "      <th>2</th>\n",
       "      <td>0.020202</td>\n",
       "      <td>0.200649</td>\n",
       "    </tr>\n",
       "    <tr>\n",
       "      <th>3</th>\n",
       "      <td>0.030303</td>\n",
       "      <td>0.298414</td>\n",
       "    </tr>\n",
       "    <tr>\n",
       "      <th>4</th>\n",
       "      <td>0.040404</td>\n",
       "      <td>0.393137</td>\n",
       "    </tr>\n",
       "    <tr>\n",
       "      <th>...</th>\n",
       "      <td>...</td>\n",
       "      <td>...</td>\n",
       "    </tr>\n",
       "    <tr>\n",
       "      <th>95</th>\n",
       "      <td>0.959596</td>\n",
       "      <td>-0.170347</td>\n",
       "    </tr>\n",
       "    <tr>\n",
       "      <th>96</th>\n",
       "      <td>0.969697</td>\n",
       "      <td>-0.268843</td>\n",
       "    </tr>\n",
       "    <tr>\n",
       "      <th>97</th>\n",
       "      <td>0.979798</td>\n",
       "      <td>-0.364599</td>\n",
       "    </tr>\n",
       "    <tr>\n",
       "      <th>98</th>\n",
       "      <td>0.989899</td>\n",
       "      <td>-0.456637</td>\n",
       "    </tr>\n",
       "    <tr>\n",
       "      <th>99</th>\n",
       "      <td>1.000000</td>\n",
       "      <td>-0.544021</td>\n",
       "    </tr>\n",
       "  </tbody>\n",
       "</table>\n",
       "<p>100 rows × 2 columns</p>\n",
       "</div>"
      ],
      "text/plain": [
       "           t         y\n",
       "0   0.000000  0.000000\n",
       "1   0.010101  0.100838\n",
       "2   0.020202  0.200649\n",
       "3   0.030303  0.298414\n",
       "4   0.040404  0.393137\n",
       "..       ...       ...\n",
       "95  0.959596 -0.170347\n",
       "96  0.969697 -0.268843\n",
       "97  0.979798 -0.364599\n",
       "98  0.989899 -0.456637\n",
       "99  1.000000 -0.544021\n",
       "\n",
       "[100 rows x 2 columns]"
      ]
     },
     "execution_count": 22,
     "metadata": {},
     "output_type": "execute_result"
    }
   ],
   "source": [
    "\"\"\"generate 100 datapoints for the function f(t)= sin(t) where t is in [0,1]\"\"\"\n",
    "import numpy as np\n",
    "import matplotlib.pyplot as plt\n",
    "import math\n",
    "import pandas as pd\n",
    "\n",
    "def f(t):\n",
    "    return math.sin(10*t)\n",
    "\n",
    "t = np.linspace(0.0, 1.00, 100)\n",
    "y = np.zeros(100)\n",
    "for i in range(100):\n",
    "    y[i] = f(t[i])\n",
    "\n",
    "\"\"\"store the datapoints in a file called data.csv file\"\"\"\n",
    "data= pd.DataFrame({'t':t, 'y':y})\n",
    "data.to_csv('data.csv', index=False)\n",
    "data\n",
    "\n"
   ]
  },
  {
   "cell_type": "code",
   "execution_count": 23,
   "metadata": {},
   "outputs": [
    {
     "data": {
      "text/plain": [
       "array([[1.00000000e+00, 0.00000000e+00, 0.00000000e+00, ...,\n",
       "        0.00000000e+00, 0.00000000e+00, 0.00000000e+00],\n",
       "       [1.00000000e+00, 1.01010101e-02, 1.02030405e-04, ...,\n",
       "        1.12817810e-24, 1.13957384e-26, 1.15108468e-28],\n",
       "       [1.00000000e+00, 2.02020202e-02, 4.08121620e-04, ...,\n",
       "        4.62101750e-21, 9.33538888e-23, 1.88593715e-24],\n",
       "       ...,\n",
       "       [1.00000000e+00, 9.79797980e-01, 9.60004081e-01, ...,\n",
       "        7.82777756e-01, 7.66964064e-01, 7.51469841e-01],\n",
       "       [1.00000000e+00, 9.89898990e-01, 9.79900010e-01, ...,\n",
       "        8.85300222e-01, 8.76357796e-01, 8.67505697e-01],\n",
       "       [1.00000000e+00, 1.00000000e+00, 1.00000000e+00, ...,\n",
       "        1.00000000e+00, 1.00000000e+00, 1.00000000e+00]])"
      ]
     },
     "execution_count": 23,
     "metadata": {},
     "output_type": "execute_result"
    }
   ],
   "source": [
    "\"\"\"create a 100* 15 matrix X where each row is a datapoint (t, t^2, t^3, ..., t^15)\"\"\"\n",
    "A= np.ones((100,15))\n",
    "for i in range(100):\n",
    "    for j in range(15):\n",
    "        A[i][j]= t[i]**(j)\n",
    "A\n"
   ]
  },
  {
   "cell_type": "code",
   "execution_count": 24,
   "metadata": {},
   "outputs": [
    {
     "name": "stderr",
     "output_type": "stream",
     "text": [
      "/var/folders/ty/fff3vpc97flg83g8031bxxrc0000gn/T/ipykernel_772/2315541517.py:3: FutureWarning: `rcond` parameter will change to the default of machine precision times ``max(M, N)`` where M and N are the input matrix dimensions.\n",
      "To use the future default and silence this warning we advise to pass `rcond=None`, to keep using the old, explicitly pass `rcond=-1`.\n",
      "  coeff= lstsq(A,y)[0]\n"
     ]
    }
   ],
   "source": [
    "\"\"\"in-built least square function to find the coefficients\"\"\"\n",
    "from numpy.linalg import lstsq\n",
    "coeff= lstsq(A,y)[0]\n"
   ]
  },
  {
   "cell_type": "code",
   "execution_count": 25,
   "metadata": {},
   "outputs": [
    {
     "data": {
      "text/plain": [
       "array([[ 0.        ],\n",
       "       [ 0.10083842],\n",
       "       [ 0.20064886],\n",
       "       [ 0.2984138 ],\n",
       "       [ 0.39313661],\n",
       "       [ 0.48385164],\n",
       "       [ 0.56963411],\n",
       "       [ 0.64960951],\n",
       "       [ 0.72296256],\n",
       "       [ 0.78894546],\n",
       "       [ 0.84688556],\n",
       "       [ 0.8961922 ],\n",
       "       [ 0.93636273],\n",
       "       [ 0.96698762],\n",
       "       [ 0.98775469],\n",
       "       [ 0.99845223],\n",
       "       [ 0.99897117],\n",
       "       [ 0.98930624],\n",
       "       [ 0.96955595],\n",
       "       [ 0.93992165],\n",
       "       [ 0.90070545],\n",
       "       [ 0.85230712],\n",
       "       [ 0.79522006],\n",
       "       [ 0.73002623],\n",
       "       [ 0.65739025],\n",
       "       [ 0.57805259],\n",
       "       [ 0.49282204],\n",
       "       [ 0.40256749],\n",
       "       [ 0.30820902],\n",
       "       [ 0.21070855],\n",
       "       [ 0.11106004],\n",
       "       [ 0.01027934],\n",
       "       [-0.09060615],\n",
       "       [-0.19056796],\n",
       "       [-0.28858706],\n",
       "       [-0.38366419],\n",
       "       [-0.47483011],\n",
       "       [-0.56115544],\n",
       "       [-0.64176014],\n",
       "       [-0.7158225 ],\n",
       "       [-0.7825875 ],\n",
       "       [-0.84137452],\n",
       "       [-0.89158426],\n",
       "       [-0.93270486],\n",
       "       [-0.96431712],\n",
       "       [-0.98609877],\n",
       "       [-0.99782778],\n",
       "       [-0.99938456],\n",
       "       [-0.99075324],\n",
       "       [-0.97202182],\n",
       "       [-0.94338126],\n",
       "       [-0.90512352],\n",
       "       [-0.85763861],\n",
       "       [-0.80141062],\n",
       "       [-0.73701276],\n",
       "       [-0.66510151],\n",
       "       [-0.58640998],\n",
       "       [-0.50174037],\n",
       "       [-0.41195583],\n",
       "       [-0.31797166],\n",
       "       [-0.22074597],\n",
       "       [-0.12126992],\n",
       "       [-0.0205576 ],\n",
       "       [ 0.0803643 ],\n",
       "       [ 0.18046693],\n",
       "       [ 0.27872982],\n",
       "       [ 0.37415123],\n",
       "       [ 0.46575841],\n",
       "       [ 0.55261747],\n",
       "       [ 0.63384295],\n",
       "       [ 0.7086068 ],\n",
       "       [ 0.77614685],\n",
       "       [ 0.83577457],\n",
       "       [ 0.8868821 ],\n",
       "       [ 0.92894843],\n",
       "       [ 0.96154471],\n",
       "       [ 0.98433866],\n",
       "       [ 0.99709789],\n",
       "       [ 0.99969234],\n",
       "       [ 0.99209556],\n",
       "       [ 0.97438499],\n",
       "       [ 0.94674118],\n",
       "       [ 0.90944594],\n",
       "       [ 0.86287948],\n",
       "       [ 0.8075165 ],\n",
       "       [ 0.74392141],\n",
       "       [ 0.6727425 ],\n",
       "       [ 0.59470541],\n",
       "       [ 0.51060568],\n",
       "       [ 0.42130064],\n",
       "       [ 0.32770071],\n",
       "       [ 0.23076008],\n",
       "       [ 0.13146699],\n",
       "       [ 0.03083368],\n",
       "       [-0.07011396],\n",
       "       [-0.17034683],\n",
       "       [-0.26884313],\n",
       "       [-0.36459873],\n",
       "       [-0.45663749],\n",
       "       [-0.54402111]])"
      ]
     },
     "execution_count": 25,
     "metadata": {},
     "output_type": "execute_result"
    }
   ],
   "source": [
    "\"\"\"create a column vector b that has the values of f(t) for each datapoint\"\"\"\n",
    "b= np.zeros((100,1))\n",
    "for i in range(100):\n",
    "    b[i]= f(t[i])\n",
    "b"
   ]
  },
  {
   "cell_type": "code",
   "execution_count": 26,
   "metadata": {},
   "outputs": [
    {
     "data": {
      "text/plain": [
       "15"
      ]
     },
     "execution_count": 26,
     "metadata": {},
     "output_type": "execute_result"
    }
   ],
   "source": [
    "A.shape[1]"
   ]
  },
  {
   "cell_type": "code",
   "execution_count": 27,
   "metadata": {},
   "outputs": [
    {
     "data": {
      "text/plain": [
       "array([0.06462678, 0.06462678, 0.06462678, 0.06462678, 0.06462678,\n",
       "       0.06462678, 0.06462678, 0.06462678, 0.06462678, 0.06462678,\n",
       "       0.06462678, 0.06462678, 0.06462678, 0.06462678, 0.06462678,\n",
       "       0.06462678, 0.06462678, 0.06462678, 0.06462678, 0.06462678,\n",
       "       0.06462678, 0.06462678, 0.06462678, 0.06462678, 0.06462678,\n",
       "       0.06462678, 0.06462678, 0.06462678, 0.06462678, 0.06462678,\n",
       "       0.06462678, 0.06462678, 0.06462678, 0.06462678, 0.06462678,\n",
       "       0.06462678, 0.06462678, 0.06462678, 0.06462678, 0.06462678,\n",
       "       0.06462678, 0.06462678, 0.06462678, 0.06462678, 0.06462678,\n",
       "       0.06462678, 0.06462678, 0.06462678, 0.06462678, 0.06462678,\n",
       "       0.06462678, 0.06462678, 0.06462678, 0.06462678, 0.06462678,\n",
       "       0.06462678, 0.06462678, 0.06462678, 0.06462678, 0.06462678,\n",
       "       0.06462678, 0.06462678, 0.06462678, 0.06462678, 0.06462678,\n",
       "       0.06462678, 0.06462678, 0.06462678, 0.06462678, 0.06462678,\n",
       "       0.06462678, 0.06462678, 0.06462678, 0.06462678, 0.06462678,\n",
       "       0.06462678, 0.06462678, 0.06462678, 0.06462678, 0.06462678,\n",
       "       0.06462678, 0.06462678, 0.06462678, 0.06462678, 0.06462678,\n",
       "       0.06462678, 0.06462678, 0.06462678, 0.06462678, 0.06462678,\n",
       "       0.06462678, 0.06462678, 0.06462678, 0.06462678, 0.06462678,\n",
       "       0.06462678, 0.06462678, 0.06462678, 0.06462678, 0.06462678])"
      ]
     },
     "execution_count": 27,
     "metadata": {},
     "output_type": "execute_result"
    }
   ],
   "source": [
    "Q[:,0]"
   ]
  },
  {
   "cell_type": "code",
   "execution_count": 57,
   "metadata": {},
   "outputs": [],
   "source": [
    "\"\"\"QR- factorization of A using modified gram schmidt\"\"\"\n",
    "# def MGS_qr_factorization(A):\n",
    "#     m,n = A.shape\n",
    "#     Q = np.zeros((m,n))\n",
    "#     R = np.zeros((n,n))\n",
    "#     \"\"\"initialize v as a copy of A\"\"\"\n",
    "#     v = np.zeros((m,n))\n",
    "#     for j in range(n):\n",
    "#         v[:,j] = A[:,j]\n",
    "#     m,n = A.shape\n",
    "#     Q = np.array(matrix, (m,n))\n",
    "#     R = np.zeros((n,n))\n",
    "#     \"\"\"initialize v as a copy of A\"\"\"\n",
    "#     v = np.zeros((m,n))\n",
    "#     for j in range(n):\n",
    "#         v[:,j] = A[:,j]\n",
    "#     for i in range(n):\n",
    "#         R[i,i] = np.linalg.norm(v)\n",
    "#         Q[:,i] = v[:,i] / R[i,i]\n",
    "#         for j in range(i+1,n):\n",
    "#             R[i,j] = Q[:,i].T @ v[:,j]\n",
    "#             v[:,j] = v[:,j] - R[i,j] * Q[:,i]\n",
    "#         return Q,R\n",
    "#     Q,R = MGS_qr_factorization(A)\n",
    "\n"
   ]
  },
  {
   "cell_type": "code",
   "execution_count": 58,
   "metadata": {},
   "outputs": [],
   "source": [
    "import numpy as np\n",
    "\n",
    "\n",
    "def qr_mgs_decompose(matrix: np.array) -> (np.array, np.array):\n",
    "    \"\"\"\n",
    "    For n x m matrix return Q1 and R1 components of QR decomposition using\n",
    "    the modified Gram-Schmidt process, where R1 is n x n upper triangular\n",
    "    and Q1 is m x n and have orthogonal columns.\n",
    "    \"\"\"\n",
    "    n = matrix.shape[1]\n",
    "    q1 = np.array(matrix, dtype='float64')\n",
    "    r1 = np.zeros((n, n))\n",
    "    for k in range(n):\n",
    "        a_k = q1[..., k]\n",
    "        r1[k,k] = np.linalg.norm(a_k)\n",
    "        a_k /= r1[k, k]\n",
    "        for i in range(k+1, n):\n",
    "            a_i = q1[..., i]\n",
    "            r1[k,i] = np.transpose(a_k) @ a_i\n",
    "            a_i -= r1[k, i] * a_k\n",
    "    return q1, r1\n",
    "\n",
    "Q_,R_= qr_mgs_decompose(A)\n"
   ]
  },
  {
   "cell_type": "code",
   "execution_count": 59,
   "metadata": {},
   "outputs": [
    {
     "name": "stdout",
     "output_type": "stream",
     "text": [
      "1.7483455833754744\n",
      "1.0000003632198848\n"
     ]
    }
   ],
   "source": [
    "print(np.linalg.norm(Q,2))\n",
    "print(np.linalg.norm(Q_,2))"
   ]
  },
  {
   "cell_type": "code",
   "execution_count": 60,
   "metadata": {},
   "outputs": [
    {
     "name": "stdout",
     "output_type": "stream",
     "text": [
      "condition number of Q is 1.0000007264401622\n",
      "condition number of R is 22717773636.796196\n",
      "condition number of A is 22717771616.09055\n"
     ]
    }
   ],
   "source": [
    "\"\"\"condidtion numbers of Q and R\"\"\"\n",
    "norm_Q=np.linalg.cond(Q_,2)\n",
    "norm_R=np.linalg.cond(R_,2)\n",
    "norm_A=np.linalg.cond(A,2)\n",
    "print(\"condition number of Q is\", norm_Q)\n",
    "print(\"condition number of R is\", norm_R)\n",
    "print(\"condition number of A is\", norm_A)\n"
   ]
  },
  {
   "cell_type": "code",
   "execution_count": 61,
   "metadata": {},
   "outputs": [],
   "source": [
    "\"\"\"code for implementing the back substitution\"\"\"\n",
    "def back_substitution(R,b):\n",
    "    m,n = R.shape\n",
    "    x=np.zeros(n)\n",
    "    for i in range(n-1,-1,-1):\n",
    "        x[i] = (b[i] - R[i,i+1:n] @ x[i+1:n]) / R[i,i]\n",
    "    return x"
   ]
  },
  {
   "cell_type": "code",
   "execution_count": 62,
   "metadata": {},
   "outputs": [],
   "source": [
    "\"\"\"solve the least squares problem using the QR factorization\"\"\"\n",
    "def least_squares(A,b):\n",
    "    Q,R = qr_mgs_decompose(A)\n",
    "    return back_substitution(R, Q.T @ b)\n",
    "\n"
   ]
  },
  {
   "cell_type": "code",
   "execution_count": 63,
   "metadata": {},
   "outputs": [
    {
     "data": {
      "text/plain": [
       "4038.388928853687"
      ]
     },
     "execution_count": 63,
     "metadata": {},
     "output_type": "execute_result"
    }
   ],
   "source": [
    "x = least_squares(A,b)\n",
    "x\n",
    "np.linalg.norm(x-coeff,2)"
   ]
  },
  {
   "cell_type": "code",
   "execution_count": 64,
   "metadata": {},
   "outputs": [
    {
     "data": {
      "text/plain": [
       "(100, 1)"
      ]
     },
     "execution_count": 64,
     "metadata": {},
     "output_type": "execute_result"
    }
   ],
   "source": [
    "b_=A@x\n",
    "b.shape"
   ]
  },
  {
   "cell_type": "code",
   "execution_count": 66,
   "metadata": {},
   "outputs": [],
   "source": [
    "\"\"\"fit the 14th degree polynomial to the datapoints\"\"\"\n",
    "def polynomial(coeff_, degree):\n",
    "    p=coeff_[0]\n",
    "    for i in range(1,degree+1):\n",
    "        p+=coeff_[i]*(t**i)\n",
    "    return p\n",
    "\n",
    "p=polynomial(x,14)\n"
   ]
  },
  {
   "cell_type": "code",
   "execution_count": 71,
   "metadata": {},
   "outputs": [
    {
     "data": {
      "image/png": "[encoded data removed]",
      "text/plain": [
       "<Figure size 640x480 with 1 Axes>"
      ]
     },
     "metadata": {},
     "output_type": "display_data"
    }
   ],
   "source": [
    "\"\"\"plot the datapoints and the fitted polynomial\"\"\"\n",
    "plt.plot(t,y,\"r-o\",label='datapoints')\n",
    "plt.plot(t,p, label='fitted polynomial')\n",
    "plt.legend()\n",
    "plt.title(\"Fitting a 14th degree polynomial to the datapoints with MGS QR factorization\")\n",
    "plt.savefig('MGSpoly.png')\n",
    "plt.show()"
   ]
  },
  {
   "cell_type": "code",
   "execution_count": 13,
   "metadata": {},
   "outputs": [
    {
     "name": "stdout",
     "output_type": "stream",
     "text": [
      "Q:\n",
      " [[-0.1        -0.1714816  -0.21699757 ... -0.04903709 -0.05158455\n",
      "  -0.08195925]\n",
      " [-0.1        -0.16801733 -0.2038462  ...  0.17025447  0.17040656\n",
      "   0.19164493]\n",
      " [-0.1        -0.16455305 -0.19096323 ... -0.19815395 -0.20319649\n",
      "  -0.17999191]\n",
      " ...\n",
      " [-0.1         0.16455305 -0.19096323 ...  0.63898578 -0.31316644\n",
      "   0.02318296]\n",
      " [-0.1         0.16801733 -0.2038462  ... -0.31116946  0.62822027\n",
      "  -0.24818005]\n",
      " [-0.1         0.1714816  -0.21699757 ...  0.0361779  -0.22958183\n",
      "   0.11393141]]\n",
      "R:\n",
      " [[-1.00000000e+01 -5.00000000e+00 -3.35016835e+00 ... -8.12548374e-01\n",
      "  -7.58236888e-01 -7.11178139e-01]\n",
      " [-2.82412982e-15  2.91576465e+00  2.91576465e+00 ...  1.20710257e+00\n",
      "   1.13884258e+00  1.07835578e+00]\n",
      " [-2.82412982e-15 -6.36024067e-17 -7.60299607e-01 ... -1.14426014e+00\n",
      "  -1.10391243e+00 -1.06562526e+00]\n",
      " ...\n",
      " [-3.45556916e-15 -1.51012723e-16 -3.23407902e-17 ... -5.90159588e-23\n",
      "   8.78291994e-24 -2.36640677e-24]\n",
      " [-3.50414142e-15 -3.06865691e-18  5.24604566e-17 ... -7.26615437e-24\n",
      "   1.12080458e-23 -7.76939923e-24]\n",
      " [-3.55271368e-15 -1.13125282e-16  9.73518994e-17 ...  3.77335139e-23\n",
      "  -6.98422192e-25  3.10592880e-24]]\n"
     ]
    }
   ],
   "source": [
    "import numpy as np\n",
    "\n",
    "def householder_reflection(x):\n",
    "    \"\"\"\n",
    "    Compute the Householder reflection matrix for a given vector x.\n",
    "    \"\"\"\n",
    "    v = x / (x[0] + np.copysign(np.linalg.norm(x), x[0]))\n",
    "    v[0] = 1\n",
    "    H = np.eye(x.shape[0])\n",
    "    H -= (2 / np.dot(v, v)) * np.outer(v, v)\n",
    "    return H\n",
    "\n",
    "def householder_qr_factorization(A):\n",
    "    \"\"\"\n",
    "    Compute the QR factorization of a matrix A using Householder reflection.\n",
    "    \"\"\"\n",
    "    m, n = A.shape\n",
    "    Q = np.eye(m)\n",
    "    R = A.copy()\n",
    "    for j in range(n):\n",
    "        x = R[j:, j]\n",
    "        H = householder_reflection(x)\n",
    "        R[j:, j:] = H @ R[j:, j:]\n",
    "        Q[:, j:] = Q[:, j:] @ H.T\n",
    "    return Q, R\n",
    "\n",
    "# Example usage\n",
    "Q_h, R_h = householder_qr_factorization(A)\n",
    "print(\"Q:\\n\", Q_h)\n",
    "print(\"R:\\n\", R_h)"
   ]
  },
  {
   "cell_type": "code",
   "execution_count": 14,
   "metadata": {},
   "outputs": [
    {
     "data": {
      "text/plain": [
       "array([-1.60394949e-07,  1.00000601e+01, -3.14922894e-03, -1.66610619e+02,\n",
       "       -2.95949305e-01,  8.30456547e+02,  5.52238419e+01, -2.39204387e+03,\n",
       "        1.80111005e+03, -2.50883034e+03,  1.05301078e+04, -1.68740560e+04,\n",
       "        1.27872866e+04, -4.80044996e+03,  7.27561013e+02])"
      ]
     },
     "execution_count": 14,
     "metadata": {},
     "output_type": "execute_result"
    }
   ],
   "source": [
    "\"\"\"solve using back substitution\"\"\"\n",
    "\"\"\"call the function back_substitution\"\"\"\n",
    "x = back_substitution(R_h, Q_h.T @ b)\n",
    "x"
   ]
  },
  {
   "cell_type": "code",
   "execution_count": 27,
   "metadata": {},
   "outputs": [
    {
     "ename": "ValueError",
     "evalue": "matmul: Input operand 1 has a mismatch in its core dimension 0, with gufunc signature (n?,k),(k,m?)->(n?,m?) (size 100 is different from 27)",
     "output_type": "error",
     "traceback": [
      "\u001b[0;31m---------------------------------------------------------------------------\u001b[0m",
      "\u001b[0;31mValueError\u001b[0m                                Traceback (most recent call last)",
      "\u001b[1;32m/Users/lochan_n/Desktop/NLA/NLA/NLA/Assignment-4/QR.ipynb Cell 14\u001b[0m line \u001b[0;36m2\n\u001b[1;32m     <a href='vscode-notebook-cell:/Users/lochan_n/Desktop/NLA/NLA/NLA/Assignment-4/QR.ipynb#X16sZmlsZQ%3D%3D?line=19'>20</a>\u001b[0m     \u001b[39mreturn\u001b[39;00m x\n\u001b[1;32m     <a href='vscode-notebook-cell:/Users/lochan_n/Desktop/NLA/NLA/NLA/Assignment-4/QR.ipynb#X16sZmlsZQ%3D%3D?line=21'>22</a>\u001b[0m \u001b[39m# Example usage\u001b[39;00m\n\u001b[0;32m---> <a href='vscode-notebook-cell:/Users/lochan_n/Desktop/NLA/NLA/NLA/Assignment-4/QR.ipynb#X16sZmlsZQ%3D%3D?line=22'>23</a>\u001b[0m x \u001b[39m=\u001b[39m least_squares_svd(A, b)\n\u001b[1;32m     <a href='vscode-notebook-cell:/Users/lochan_n/Desktop/NLA/NLA/NLA/Assignment-4/QR.ipynb#X16sZmlsZQ%3D%3D?line=23'>24</a>\u001b[0m \u001b[39mprint\u001b[39m(\u001b[39m\"\u001b[39m\u001b[39mx:\u001b[39m\u001b[39m\"\u001b[39m, x)\n",
      "\u001b[1;32m/Users/lochan_n/Desktop/NLA/NLA/NLA/Assignment-4/QR.ipynb Cell 14\u001b[0m line \u001b[0;36m1\n\u001b[1;32m     <a href='vscode-notebook-cell:/Users/lochan_n/Desktop/NLA/NLA/NLA/Assignment-4/QR.ipynb#X16sZmlsZQ%3D%3D?line=15'>16</a>\u001b[0m \u001b[39m\u001b[39m\u001b[39m\"\"\"U.T @ b\"\"\"\u001b[39;00m\n\u001b[1;32m     <a href='vscode-notebook-cell:/Users/lochan_n/Desktop/NLA/NLA/NLA/Assignment-4/QR.ipynb#X16sZmlsZQ%3D%3D?line=16'>17</a>\u001b[0m t\u001b[39m=\u001b[39m(U\u001b[39m.\u001b[39mT) \u001b[39m@\u001b[39m b\n\u001b[0;32m---> <a href='vscode-notebook-cell:/Users/lochan_n/Desktop/NLA/NLA/NLA/Assignment-4/QR.ipynb#X16sZmlsZQ%3D%3D?line=17'>18</a>\u001b[0m y\u001b[39m=\u001b[39m s_inv\u001b[39m@\u001b[39m t\n\u001b[1;32m     <a href='vscode-notebook-cell:/Users/lochan_n/Desktop/NLA/NLA/NLA/Assignment-4/QR.ipynb#X16sZmlsZQ%3D%3D?line=18'>19</a>\u001b[0m x\u001b[39m=\u001b[39mVt\u001b[39m.\u001b[39mT \u001b[39m@\u001b[39m y\n\u001b[1;32m     <a href='vscode-notebook-cell:/Users/lochan_n/Desktop/NLA/NLA/NLA/Assignment-4/QR.ipynb#X16sZmlsZQ%3D%3D?line=19'>20</a>\u001b[0m \u001b[39mreturn\u001b[39;00m x\n",
      "\u001b[0;31mValueError\u001b[0m: matmul: Input operand 1 has a mismatch in its core dimension 0, with gufunc signature (n?,k),(k,m?)->(n?,m?) (size 100 is different from 27)"
     ]
    }
   ],
   "source": [
    "import numpy as np\n",
    "\n",
    "def least_squares_svd(A, b):\n",
    "    \"\"\"\n",
    "    Solve the least squares problem min ||Ax - b||_2 using SVD.\n",
    "    \"\"\"\n",
    "    U, s, Vt = np.linalg.svd(A)\n",
    "    # d = np.zeros_like(A.T @ b)\n",
    "    # d[:len(np.diag(s))] = 1 / s\n",
    "    # x = Vt.T @ np.diag(d) @ U.T @ b\n",
    "    \"\"\"convert s to a diagonal matrix and then take the inverse\"\"\"\n",
    "    s=np.diag(s)\n",
    "    s_inv=np.linalg.inv(s)\n",
    "    \"\"\"padding s_inv with zeros\"\"\"\n",
    "    s_inv=np.pad(s_inv, (0, 12), 'constant')\n",
    "    \"\"\"U.T @ b\"\"\"\n",
    "    t=(U.T) @ b\n",
    "    y= s_inv@ t\n",
    "    x=Vt.T @ y\n",
    "    return x\n",
    "\n",
    "# Example usage\n",
    "x = least_squares_svd(A, b)\n",
    "print(\"x:\", x)"
   ]
  },
  {
   "cell_type": "code",
   "execution_count": 28,
   "metadata": {},
   "outputs": [
    {
     "name": "stdout",
     "output_type": "stream",
     "text": [
      "(15, 15)\n",
      "(100, 100)\n",
      "(15, 15)\n",
      "(15, 15)\n"
     ]
    }
   ],
   "source": [
    "U, s, Vt = np.linalg.svd(A)\n",
    "\"\"\"print the shapes of U, s, Vt\"\"\"\n",
    "s=np.diag(s)\n",
    "s_inv= np.linalg.inv(s)\n",
    "print(s_inv.shape)\n",
    "print(U.shape)\n",
    "print(s.shape)\n",
    "print(Vt.shape)\n"
   ]
  },
  {
   "cell_type": "code",
   "execution_count": 26,
   "metadata": {},
   "outputs": [
    {
     "ename": "ValueError",
     "evalue": "matmul: Input operand 1 has a mismatch in its core dimension 0, with gufunc signature (n?,k),(k,m?)->(n?,m?) (size 100 is different from 15)",
     "output_type": "error",
     "traceback": [
      "\u001b[0;31m---------------------------------------------------------------------------\u001b[0m",
      "\u001b[0;31mValueError\u001b[0m                                Traceback (most recent call last)",
      "\u001b[1;32m/Users/lochan_n/Desktop/NLA/NLA/NLA/Assignment-4/QR.ipynb Cell 16\u001b[0m line \u001b[0;36m1\n\u001b[0;32m----> <a href='vscode-notebook-cell:/Users/lochan_n/Desktop/NLA/NLA/NLA/Assignment-4/QR.ipynb#X22sZmlsZQ%3D%3D?line=0'>1</a>\u001b[0m s_inv \u001b[39m@\u001b[39m U\u001b[39m.\u001b[39mT \u001b[39m@b\u001b[39m\n",
      "\u001b[0;31mValueError\u001b[0m: matmul: Input operand 1 has a mismatch in its core dimension 0, with gufunc signature (n?,k),(k,m?)->(n?,m?) (size 100 is different from 15)"
     ]
    }
   ],
   "source": [
    "s_inv @ U.T @b"
   ]
  },
  {
   "cell_type": "code",
   "execution_count": null,
   "metadata": {},
   "outputs": [],
   "source": []
  }
 ],
 "metadata": {
  "kernelspec": {
   "display_name": "Python 3",
   "language": "python",
   "name": "python3"
  },
  "language_info": {
   "codemirror_mode": {
    "name": "ipython",
    "version": 3
   },
   "file_extension": ".py",
   "mimetype": "text/x-python",
   "name": "python",
   "nbconvert_exporter": "python",
   "pygments_lexer": "ipython3",
   "version": "3.11.4"
  }
 },
 "nbformat": 4,
 "nbformat_minor": 2
}
