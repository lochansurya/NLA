{
 "cells": [
  {
   "cell_type": "code",
   "execution_count": 27,
   "metadata": {},
   "outputs": [
    {
     "data": {
      "text/html": [
       "<div>\n",
       "<style scoped>\n",
       "    .dataframe tbody tr th:only-of-type {\n",
       "        vertical-align: middle;\n",
       "    }\n",
       "\n",
       "    .dataframe tbody tr th {\n",
       "        vertical-align: top;\n",
       "    }\n",
       "\n",
       "    .dataframe thead th {\n",
       "        text-align: right;\n",
       "    }\n",
       "</style>\n",
       "<table border=\"1\" class=\"dataframe\">\n",
       "  <thead>\n",
       "    <tr style=\"text-align: right;\">\n",
       "      <th></th>\n",
       "      <th>t</th>\n",
       "      <th>y</th>\n",
       "    </tr>\n",
       "  </thead>\n",
       "  <tbody>\n",
       "    <tr>\n",
       "      <th>0</th>\n",
       "      <td>0.000000</td>\n",
       "      <td>0.000000</td>\n",
       "    </tr>\n",
       "    <tr>\n",
       "      <th>1</th>\n",
       "      <td>0.010101</td>\n",
       "      <td>0.010101</td>\n",
       "    </tr>\n",
       "    <tr>\n",
       "      <th>2</th>\n",
       "      <td>0.020202</td>\n",
       "      <td>0.020201</td>\n",
       "    </tr>\n",
       "    <tr>\n",
       "      <th>3</th>\n",
       "      <td>0.030303</td>\n",
       "      <td>0.030298</td>\n",
       "    </tr>\n",
       "    <tr>\n",
       "      <th>4</th>\n",
       "      <td>0.040404</td>\n",
       "      <td>0.040393</td>\n",
       "    </tr>\n",
       "    <tr>\n",
       "      <th>...</th>\n",
       "      <td>...</td>\n",
       "      <td>...</td>\n",
       "    </tr>\n",
       "    <tr>\n",
       "      <th>95</th>\n",
       "      <td>0.959596</td>\n",
       "      <td>0.818960</td>\n",
       "    </tr>\n",
       "    <tr>\n",
       "      <th>96</th>\n",
       "      <td>0.969697</td>\n",
       "      <td>0.824714</td>\n",
       "    </tr>\n",
       "    <tr>\n",
       "      <th>97</th>\n",
       "      <td>0.979798</td>\n",
       "      <td>0.830385</td>\n",
       "    </tr>\n",
       "    <tr>\n",
       "      <th>98</th>\n",
       "      <td>0.989899</td>\n",
       "      <td>0.835971</td>\n",
       "    </tr>\n",
       "    <tr>\n",
       "      <th>99</th>\n",
       "      <td>1.000000</td>\n",
       "      <td>0.841471</td>\n",
       "    </tr>\n",
       "  </tbody>\n",
       "</table>\n",
       "<p>100 rows × 2 columns</p>\n",
       "</div>"
      ],
      "text/plain": [
       "           t         y\n",
       "0   0.000000  0.000000\n",
       "1   0.010101  0.010101\n",
       "2   0.020202  0.020201\n",
       "3   0.030303  0.030298\n",
       "4   0.040404  0.040393\n",
       "..       ...       ...\n",
       "95  0.959596  0.818960\n",
       "96  0.969697  0.824714\n",
       "97  0.979798  0.830385\n",
       "98  0.989899  0.835971\n",
       "99  1.000000  0.841471\n",
       "\n",
       "[100 rows x 2 columns]"
      ]
     },
     "execution_count": 27,
     "metadata": {},
     "output_type": "execute_result"
    }
   ],
   "source": [
    "\"\"\"generate 100 datapoints for the function f(t)= sin(t) where t is in [0,1]\"\"\"\n",
    "import numpy as np\n",
    "import matplotlib.pyplot as plt\n",
    "import math\n",
    "import pandas as pd\n",
    "\n",
    "def f(t):\n",
    "    return math.sin(t)\n",
    "\n",
    "t = np.linspace(0.0, 1.00, 100)\n",
    "y = np.zeros(100)\n",
    "for i in range(100):\n",
    "    y[i] = f(t[i])\n",
    "\n",
    "\"\"\"store the datapoints in a file called data.csv file\"\"\"\n",
    "data= pd.DataFrame({'t':t, 'y':y})\n",
    "data.to_csv('data.csv', index=False)\n",
    "data\n",
    "\n"
   ]
  },
  {
   "cell_type": "code",
   "execution_count": 28,
   "metadata": {},
   "outputs": [
    {
     "data": {
      "text/plain": [
       "array([[1.00000000e+00, 0.00000000e+00, 0.00000000e+00, ...,\n",
       "        0.00000000e+00, 0.00000000e+00, 0.00000000e+00],\n",
       "       [1.00000000e+00, 1.01010101e-02, 1.02030405e-04, ...,\n",
       "        1.12817810e-24, 1.13957384e-26, 1.15108468e-28],\n",
       "       [1.00000000e+00, 2.02020202e-02, 4.08121620e-04, ...,\n",
       "        4.62101750e-21, 9.33538888e-23, 1.88593715e-24],\n",
       "       ...,\n",
       "       [1.00000000e+00, 9.79797980e-01, 9.60004081e-01, ...,\n",
       "        7.82777756e-01, 7.66964064e-01, 7.51469841e-01],\n",
       "       [1.00000000e+00, 9.89898990e-01, 9.79900010e-01, ...,\n",
       "        8.85300222e-01, 8.76357796e-01, 8.67505697e-01],\n",
       "       [1.00000000e+00, 1.00000000e+00, 1.00000000e+00, ...,\n",
       "        1.00000000e+00, 1.00000000e+00, 1.00000000e+00]])"
      ]
     },
     "execution_count": 28,
     "metadata": {},
     "output_type": "execute_result"
    }
   ],
   "source": [
    "\"\"\"create a 100* 15 matrix X where each row is a datapoint (t, t^2, t^3, ..., t^15)\"\"\"\n",
    "A= np.ones((100,15))\n",
    "for i in range(100):\n",
    "    for j in range(15):\n",
    "        A[i][j]= t[i]**(j)\n",
    "A\n"
   ]
  },
  {
   "cell_type": "code",
   "execution_count": 29,
   "metadata": {},
   "outputs": [
    {
     "data": {
      "text/plain": [
       "array([[0.        ],\n",
       "       [0.01010084],\n",
       "       [0.02020065],\n",
       "       [0.03029839],\n",
       "       [0.04039305],\n",
       "       [0.05048358],\n",
       "       [0.06056897],\n",
       "       [0.07064817],\n",
       "       [0.08072016],\n",
       "       [0.09078392],\n",
       "       [0.10083842],\n",
       "       [0.11088263],\n",
       "       [0.12091552],\n",
       "       [0.13093608],\n",
       "       [0.14094328],\n",
       "       [0.1509361 ],\n",
       "       [0.16091352],\n",
       "       [0.17087452],\n",
       "       [0.18081808],\n",
       "       [0.1907432 ],\n",
       "       [0.20064886],\n",
       "       [0.21053404],\n",
       "       [0.22039774],\n",
       "       [0.23023896],\n",
       "       [0.24005668],\n",
       "       [0.24984992],\n",
       "       [0.25961766],\n",
       "       [0.26935891],\n",
       "       [0.27907268],\n",
       "       [0.28875797],\n",
       "       [0.2984138 ],\n",
       "       [0.30803919],\n",
       "       [0.31763315],\n",
       "       [0.3271947 ],\n",
       "       [0.33672286],\n",
       "       [0.34621667],\n",
       "       [0.35567516],\n",
       "       [0.36509735],\n",
       "       [0.3744823 ],\n",
       "       [0.38382904],\n",
       "       [0.39313661],\n",
       "       [0.40240408],\n",
       "       [0.41163048],\n",
       "       [0.42081489],\n",
       "       [0.42995636],\n",
       "       [0.43905397],\n",
       "       [0.44810678],\n",
       "       [0.45711386],\n",
       "       [0.46607431],\n",
       "       [0.47498721],\n",
       "       [0.48385164],\n",
       "       [0.49266671],\n",
       "       [0.5014315 ],\n",
       "       [0.51014514],\n",
       "       [0.51880673],\n",
       "       [0.52741539],\n",
       "       [0.53597023],\n",
       "       [0.54447039],\n",
       "       [0.55291499],\n",
       "       [0.56130318],\n",
       "       [0.56963411],\n",
       "       [0.57790691],\n",
       "       [0.58612075],\n",
       "       [0.59427479],\n",
       "       [0.60236819],\n",
       "       [0.61040014],\n",
       "       [0.6183698 ],\n",
       "       [0.62627638],\n",
       "       [0.63411905],\n",
       "       [0.64189703],\n",
       "       [0.64960951],\n",
       "       [0.65725572],\n",
       "       [0.66483486],\n",
       "       [0.67234618],\n",
       "       [0.67978889],\n",
       "       [0.68716224],\n",
       "       [0.69446549],\n",
       "       [0.70169788],\n",
       "       [0.70885867],\n",
       "       [0.71594714],\n",
       "       [0.72296256],\n",
       "       [0.72990422],\n",
       "       [0.73677141],\n",
       "       [0.74356342],\n",
       "       [0.75027957],\n",
       "       [0.75691917],\n",
       "       [0.76348154],\n",
       "       [0.76996601],\n",
       "       [0.77637192],\n",
       "       [0.78269862],\n",
       "       [0.78894546],\n",
       "       [0.79511181],\n",
       "       [0.80119703],\n",
       "       [0.8072005 ],\n",
       "       [0.81312162],\n",
       "       [0.81895978],\n",
       "       [0.82471437],\n",
       "       [0.83038482],\n",
       "       [0.83597055],\n",
       "       [0.84147098]])"
      ]
     },
     "execution_count": 29,
     "metadata": {},
     "output_type": "execute_result"
    }
   ],
   "source": [
    "\"\"\"create a column vector b that has the values of f(t) for each datapoint\"\"\"\n",
    "b= np.zeros((100,1))\n",
    "for i in range(100):\n",
    "    b[i]= f(t[i])\n",
    "b"
   ]
  },
  {
   "cell_type": "code",
   "execution_count": 30,
   "metadata": {},
   "outputs": [],
   "source": [
    "\"\"\"QR- factorization of A using modified gram schmidt\"\"\"\n",
    "def MGS_qr_factorizatio(A):\n",
    "    m,n = A.shape\n",
    "    Q = np.zeros((m,n))\n",
    "    R = np.zeros((n,n))\n",
    "    for j in range(n):\n",
    "        v = A[:,j]\n",
    "        for i in range(j):\n",
    "            R[i,j] = Q[:,i].T @ A[:,j]\n",
    "            v = v - R[i,j] * Q[:,i]\n",
    "        R[j,j] = np.linalg.norm(v)\n",
    "        Q[:,j] = v / R[j,j]\n",
    "    return Q,R\n",
    "\n",
    "Q,R = MGS_qr_factorization(A)"
   ]
  },
  {
   "cell_type": "code",
   "execution_count": 31,
   "metadata": {},
   "outputs": [
    {
     "data": {
      "text/plain": [
       "array([[ 0.1       , -0.1714816 ,  0.21699757, ...,  0.24551698,\n",
       "         0.24876423,  0.25074947],\n",
       "       [ 0.1       , -0.16801733,  0.2038462 , ...,  0.02699155,\n",
       "         0.02688755,  0.02683627],\n",
       "       [ 0.1       , -0.16455305,  0.19096323, ..., -0.09631527,\n",
       "        -0.09806116, -0.09912038],\n",
       "       ...,\n",
       "       [ 0.1       ,  0.16455305,  0.19096323, ...,  0.12736299,\n",
       "         0.12463032,  0.12260563],\n",
       "       [ 0.1       ,  0.16801733,  0.2038462 , ..., -0.0245726 ,\n",
       "        -0.02525289, -0.02581082],\n",
       "       [ 0.1       ,  0.1714816 ,  0.21699757, ..., -0.30351747,\n",
       "        -0.29927832, -0.29621625]])"
      ]
     },
     "execution_count": 31,
     "metadata": {},
     "output_type": "execute_result"
    }
   ],
   "source": [
    "Q"
   ]
  },
  {
   "cell_type": "code",
   "execution_count": 32,
   "metadata": {},
   "outputs": [
    {
     "data": {
      "text/plain": [
       "array([[ 1.00000000e+01,  5.00000000e+00,  3.35016835e+00,\n",
       "         2.52525253e+00,  2.03033670e+00,  1.70042087e+00,\n",
       "         1.46479075e+00,  1.28808920e+00,  1.15067335e+00,\n",
       "         1.04075750e+00,  9.50841648e-01,  8.75925784e-01,\n",
       "         8.12548374e-01,  7.58236888e-01,  7.11178139e-01],\n",
       "       [ 0.00000000e+00,  2.91576465e+00,  2.91576465e+00,\n",
       "         2.63296434e+00,  2.35016402e+00,  2.10778436e+00,\n",
       "         1.90582536e+00,  1.73755023e+00,  1.59622220e+00,\n",
       "         1.47632936e+00,  1.37358466e+00,  1.28469039e+00,\n",
       "         1.20710257e+00,  1.13884258e+00,  1.07835578e+00],\n",
       "       [ 0.00000000e+00,  0.00000000e+00,  7.60299607e-01,\n",
       "         1.14044941e+00,  1.30660669e+00,  1.36576770e+00,\n",
       "         1.37116960e+00,  1.34943097e+00,  1.31429603e+00,\n",
       "         1.27307186e+00,  1.22971856e+00,  1.18639443e+00,\n",
       "         1.14426014e+00,  1.10391243e+00,  1.06562526e+00],\n",
       "       [ 0.00000000e+00,  0.00000000e+00,  0.00000000e+00,\n",
       "         1.94630675e-01,  3.89261349e-01,  5.41699869e-01,\n",
       "         6.51946235e-01,  7.28561611e-01,  7.80107164e-01,\n",
       "         8.13395003e-01,  8.33488181e-01,  8.44064198e-01,\n",
       "         8.47778498e-01,  8.46551126e-01,  8.41776518e-01],\n",
       "       [ 0.00000000e+00,  0.00000000e+00,  0.00000000e+00,\n",
       "         0.00000000e+00,  4.94980512e-02,  1.23745128e-01,\n",
       "         2.02816854e-01,  2.76751041e-01,  3.41667161e-01,\n",
       "         3.96725513e-01,  4.42445972e-01,  4.79867357e-01,\n",
       "         5.10150420e-01,  5.34402642e-01,  5.53610687e-01],\n",
       "       [ 0.00000000e+00,  0.00000000e+00,  0.00000000e+00,\n",
       "         0.00000000e+00,  0.00000000e+00,  1.25467652e-02,\n",
       "         3.76402955e-02,  7.10329497e-02,  1.08477087e-01,\n",
       "         1.46845370e-01,  1.84130768e-01,  2.19173776e-01,\n",
       "         2.51389641e-01,  2.80559901e-01,  3.06688254e-01],\n",
       "       [ 0.00000000e+00,  0.00000000e+00,  0.00000000e+00,\n",
       "         0.00000000e+00,  0.00000000e+00,  0.00000000e+00,\n",
       "         3.17370583e-03,  1.11079709e-02,  2.37242047e-02,\n",
       "         4.01110964e-02,  5.91310063e-02,  7.97231628e-02,\n",
       "         1.01016598e-01,  1.22347956e-01,  1.43239399e-01],\n",
       "       [ 0.00000000e+00,  0.00000000e+00,  0.00000000e+00,\n",
       "         0.00000000e+00,  0.00000000e+00,  0.00000000e+00,\n",
       "         0.00000000e+00,  8.01522240e-04,  3.20606769e-03,\n",
       "         7.64556382e-03,  1.41822731e-02,  2.26289666e-02,\n",
       "         3.26690350e-02,  4.39425666e-02,  5.60983810e-02],\n",
       "       [ 0.00000000e+00,  0.00000000e+00,  0.00000000e+00,\n",
       "         0.00000000e+00,  0.00000000e+00,  0.00000000e+00,\n",
       "         0.00000000e+00,  0.00000000e+00,  2.02151086e-04,\n",
       "         9.10788060e-04,  2.39788531e-03,  4.84198087e-03,\n",
       "         8.31581816e-03,  1.28047115e-02,  1.82325795e-02],\n",
       "       [ 0.00000000e+00,  0.00000000e+00,  0.00000000e+00,\n",
       "         0.00000000e+00,  0.00000000e+00,  0.00000000e+00,\n",
       "         0.00000000e+00,  0.00000000e+00,  0.00000000e+00,\n",
       "         5.09318234e-05,  1.82615208e-04,  5.97653811e-04,\n",
       "         1.37839865e-03,  2.61316370e-03,  4.35798340e-03],\n",
       "       [ 0.00000000e+00,  0.00000000e+00,  0.00000000e+00,\n",
       "         0.00000000e+00,  0.00000000e+00,  0.00000000e+00,\n",
       "         0.00000000e+00,  0.00000000e+00,  0.00000000e+00,\n",
       "         0.00000000e+00,  7.31855833e-05,  8.74646933e-04,\n",
       "         1.85597937e-03,  3.36194151e-03,  5.45284661e-03],\n",
       "       [ 0.00000000e+00,  0.00000000e+00,  0.00000000e+00,\n",
       "         0.00000000e+00,  0.00000000e+00,  0.00000000e+00,\n",
       "         0.00000000e+00,  0.00000000e+00,  0.00000000e+00,\n",
       "         0.00000000e+00,  0.00000000e+00,  7.29120438e-04,\n",
       "        -1.77697292e-03, -3.23595440e-03, -5.26410354e-03],\n",
       "       [ 0.00000000e+00,  0.00000000e+00,  0.00000000e+00,\n",
       "         0.00000000e+00,  0.00000000e+00,  0.00000000e+00,\n",
       "         0.00000000e+00,  0.00000000e+00,  0.00000000e+00,\n",
       "         0.00000000e+00,  0.00000000e+00,  0.00000000e+00,\n",
       "         3.38068070e-03, -3.20552017e-03, -5.21618083e-03],\n",
       "       [ 0.00000000e+00,  0.00000000e+00,  0.00000000e+00,\n",
       "         0.00000000e+00,  0.00000000e+00,  0.00000000e+00,\n",
       "         0.00000000e+00,  0.00000000e+00,  0.00000000e+00,\n",
       "         0.00000000e+00,  0.00000000e+00,  0.00000000e+00,\n",
       "         0.00000000e+00,  9.40661548e-03, -5.19452085e-03],\n",
       "       [ 0.00000000e+00,  0.00000000e+00,  0.00000000e+00,\n",
       "         0.00000000e+00,  0.00000000e+00,  0.00000000e+00,\n",
       "         0.00000000e+00,  0.00000000e+00,  0.00000000e+00,\n",
       "         0.00000000e+00,  0.00000000e+00,  0.00000000e+00,\n",
       "         0.00000000e+00,  0.00000000e+00,  2.05475139e-02]])"
      ]
     },
     "execution_count": 32,
     "metadata": {},
     "output_type": "execute_result"
    }
   ],
   "source": [
    "R"
   ]
  },
  {
   "cell_type": "code",
   "execution_count": 37,
   "metadata": {},
   "outputs": [],
   "source": [
    "\"\"\"code for implementing the back substitution\"\"\"\n",
    "def back_substitution(R,b):\n",
    "    m,n = R.shape\n",
    "    x=np.zeros(n)\n",
    "    for i in range(n-1,-1,-1):\n",
    "        x[i] = (b[i] - R[i,i+1:n] @ x[i+1:n]) / R[i,i]\n",
    "    return x"
   ]
  },
  {
   "cell_type": "code",
   "execution_count": 38,
   "metadata": {},
   "outputs": [],
   "source": [
    "\"\"\"solve the least squares problem using the QR factorization\"\"\"\n",
    "def least_squares(A,b):\n",
    "    Q,R = MGS_qr_factorization(A)\n",
    "    return back_substitution(R, Q.T @ b)\n",
    "\n"
   ]
  },
  {
   "cell_type": "code",
   "execution_count": 41,
   "metadata": {},
   "outputs": [
    {
     "data": {
      "text/plain": [
       "array([ 6.63738398e-11,  9.99999993e-01,  1.54392092e-07, -1.66668113e-01,\n",
       "        7.14046166e-06,  8.31268562e-03,  3.66504601e-05, -2.38678553e-04,\n",
       "        2.65499889e-05, -6.82617951e-06,  1.47183187e-06, -3.95467548e-08,\n",
       "       -3.52125928e-09, -5.37429552e-10, -9.16062152e-11])"
      ]
     },
     "execution_count": 41,
     "metadata": {},
     "output_type": "execute_result"
    }
   ],
   "source": [
    "x = least_squares(A,b)\n",
    "x"
   ]
  },
  {
   "cell_type": "code",
   "execution_count": 40,
   "metadata": {},
   "outputs": [
    {
     "data": {
      "text/plain": [
       "35.36567756961767"
      ]
     },
     "execution_count": 40,
     "metadata": {},
     "output_type": "execute_result"
    }
   ],
   "source": [
    "b_=A@x\n",
    "np.linalg.norm(b-b_)"
   ]
  },
  {
   "cell_type": "code",
   "execution_count": 45,
   "metadata": {},
   "outputs": [
    {
     "name": "stdout",
     "output_type": "stream",
     "text": [
      "Q:\n",
      " [[-0.1        -0.1714816  -0.21699757 ... -0.04903709 -0.05158455\n",
      "  -0.08195925]\n",
      " [-0.1        -0.16801733 -0.2038462  ...  0.17025447  0.17040656\n",
      "   0.19164493]\n",
      " [-0.1        -0.16455305 -0.19096323 ... -0.19815395 -0.20319649\n",
      "  -0.17999191]\n",
      " ...\n",
      " [-0.1         0.16455305 -0.19096323 ...  0.63898578 -0.31316644\n",
      "   0.02318296]\n",
      " [-0.1         0.16801733 -0.2038462  ... -0.31116946  0.62822027\n",
      "  -0.24818005]\n",
      " [-0.1         0.1714816  -0.21699757 ...  0.0361779  -0.22958183\n",
      "   0.11393141]]\n",
      "R:\n",
      " [[-1.00000000e+01 -5.00000000e+00 -3.35016835e+00 ... -8.12548374e-01\n",
      "  -7.58236888e-01 -7.11178139e-01]\n",
      " [-2.82412982e-15  2.91576465e+00  2.91576465e+00 ...  1.20710257e+00\n",
      "   1.13884258e+00  1.07835578e+00]\n",
      " [-2.82412982e-15 -6.36024067e-17 -7.60299607e-01 ... -1.14426014e+00\n",
      "  -1.10391243e+00 -1.06562526e+00]\n",
      " ...\n",
      " [-3.45556916e-15 -1.51012723e-16 -3.23407902e-17 ... -5.90159588e-23\n",
      "   8.78291994e-24 -2.36640677e-24]\n",
      " [-3.50414142e-15 -3.06865691e-18  5.24604566e-17 ... -7.26615437e-24\n",
      "   1.12080458e-23 -7.76939923e-24]\n",
      " [-3.55271368e-15 -1.13125282e-16  9.73518994e-17 ...  3.77335139e-23\n",
      "  -6.98422192e-25  3.10592880e-24]]\n"
     ]
    }
   ],
   "source": [
    "import numpy as np\n",
    "\n",
    "def householder_reflection(x):\n",
    "    \"\"\"\n",
    "    Compute the Householder reflection matrix for a given vector x.\n",
    "    \"\"\"\n",
    "    v = x / (x[0] + np.copysign(np.linalg.norm(x), x[0]))\n",
    "    v[0] = 1\n",
    "    H = np.eye(x.shape[0])\n",
    "    H -= (2 / np.dot(v, v)) * np.outer(v, v)\n",
    "    return H\n",
    "\n",
    "def qr_factorization(A):\n",
    "    \"\"\"\n",
    "    Compute the QR factorization of a matrix A using Householder reflection.\n",
    "    \"\"\"\n",
    "    m, n = A.shape\n",
    "    Q = np.eye(m)\n",
    "    R = A.copy()\n",
    "    for j in range(n):\n",
    "        x = R[j:, j]\n",
    "        H = householder_reflection(x)\n",
    "        R[j:, j:] = H @ R[j:, j:]\n",
    "        Q[:, j:] = Q[:, j:] @ H.T\n",
    "    return Q, R\n",
    "\n",
    "# Example usage\n",
    "Q_h, R_h = qr_factorization(A)\n",
    "print(\"Q:\\n\", Q_h)\n",
    "print(\"R:\\n\", R_h)"
   ]
  },
  {
   "cell_type": "code",
   "execution_count": 47,
   "metadata": {},
   "outputs": [
    {
     "data": {
      "text/plain": [
       "array([ 5.32907052e-16,  1.00000000e+00,  3.93612451e-12, -1.66666667e-01,\n",
       "        7.79976124e-10,  8.33332843e-03,  2.01587564e-08, -1.98469215e-04,\n",
       "        1.10480307e-07,  2.60412403e-06,  1.44834207e-07, -1.18804424e-07,\n",
       "        3.88582488e-08, -9.01377615e-09,  9.14303062e-10])"
      ]
     },
     "execution_count": 47,
     "metadata": {},
     "output_type": "execute_result"
    }
   ],
   "source": [
    "\"\"\"solve using back substitution\"\"\"\n",
    "\"\"\"call the function back_substitution\"\"\"\n",
    "x = back_substitution(R_h, Q_h.T @ b)\n",
    "x"
   ]
  },
  {
   "cell_type": "code",
   "execution_count": 50,
   "metadata": {},
   "outputs": [
    {
     "ename": "ValueError",
     "evalue": "could not broadcast input array from shape (15,) into shape (15,1)",
     "output_type": "error",
     "traceback": [
      "\u001b[0;31m---------------------------------------------------------------------------\u001b[0m",
      "\u001b[0;31mValueError\u001b[0m                                Traceback (most recent call last)",
      "\u001b[1;32m/Users/lochan_n/Desktop/NLA/NLA/NLA/Assignment-4/QR.ipynb Cell 13\u001b[0m line \u001b[0;36m1\n\u001b[1;32m     <a href='vscode-notebook-cell:/Users/lochan_n/Desktop/NLA/NLA/NLA/Assignment-4/QR.ipynb#X20sZmlsZQ%3D%3D?line=10'>11</a>\u001b[0m     \u001b[39mreturn\u001b[39;00m x\n\u001b[1;32m     <a href='vscode-notebook-cell:/Users/lochan_n/Desktop/NLA/NLA/NLA/Assignment-4/QR.ipynb#X20sZmlsZQ%3D%3D?line=12'>13</a>\u001b[0m \u001b[39m# Example usage\u001b[39;00m\n\u001b[0;32m---> <a href='vscode-notebook-cell:/Users/lochan_n/Desktop/NLA/NLA/NLA/Assignment-4/QR.ipynb#X20sZmlsZQ%3D%3D?line=13'>14</a>\u001b[0m x \u001b[39m=\u001b[39m least_squares_svd(A, b)\n\u001b[1;32m     <a href='vscode-notebook-cell:/Users/lochan_n/Desktop/NLA/NLA/NLA/Assignment-4/QR.ipynb#X20sZmlsZQ%3D%3D?line=14'>15</a>\u001b[0m \u001b[39mprint\u001b[39m(\u001b[39m\"\u001b[39m\u001b[39mx:\u001b[39m\u001b[39m\"\u001b[39m, x)\n",
      "\u001b[1;32m/Users/lochan_n/Desktop/NLA/NLA/NLA/Assignment-4/QR.ipynb Cell 13\u001b[0m line \u001b[0;36m9\n\u001b[1;32m      <a href='vscode-notebook-cell:/Users/lochan_n/Desktop/NLA/NLA/NLA/Assignment-4/QR.ipynb#X20sZmlsZQ%3D%3D?line=6'>7</a>\u001b[0m U, s, Vt \u001b[39m=\u001b[39m np\u001b[39m.\u001b[39mlinalg\u001b[39m.\u001b[39msvd(A)\n\u001b[1;32m      <a href='vscode-notebook-cell:/Users/lochan_n/Desktop/NLA/NLA/NLA/Assignment-4/QR.ipynb#X20sZmlsZQ%3D%3D?line=7'>8</a>\u001b[0m d \u001b[39m=\u001b[39m np\u001b[39m.\u001b[39mzeros_like(A\u001b[39m.\u001b[39mT \u001b[39m@\u001b[39m b)\n\u001b[0;32m----> <a href='vscode-notebook-cell:/Users/lochan_n/Desktop/NLA/NLA/NLA/Assignment-4/QR.ipynb#X20sZmlsZQ%3D%3D?line=8'>9</a>\u001b[0m d[:\u001b[39mlen\u001b[39m(np\u001b[39m.\u001b[39mdiag(s))] \u001b[39m=\u001b[39m \u001b[39m1\u001b[39m \u001b[39m/\u001b[39m s\n\u001b[1;32m     <a href='vscode-notebook-cell:/Users/lochan_n/Desktop/NLA/NLA/NLA/Assignment-4/QR.ipynb#X20sZmlsZQ%3D%3D?line=9'>10</a>\u001b[0m x \u001b[39m=\u001b[39m Vt\u001b[39m.\u001b[39mT \u001b[39m@\u001b[39m np\u001b[39m.\u001b[39mdiag(d) \u001b[39m@\u001b[39m U\u001b[39m.\u001b[39mT \u001b[39m@\u001b[39m b\n\u001b[1;32m     <a href='vscode-notebook-cell:/Users/lochan_n/Desktop/NLA/NLA/NLA/Assignment-4/QR.ipynb#X20sZmlsZQ%3D%3D?line=10'>11</a>\u001b[0m \u001b[39mreturn\u001b[39;00m x\n",
      "\u001b[0;31mValueError\u001b[0m: could not broadcast input array from shape (15,) into shape (15,1)"
     ]
    }
   ],
   "source": [
    "import numpy as np\n",
    "\n",
    "def least_squares_svd(A, b):\n",
    "    \"\"\"\n",
    "    Solve the least squares problem min ||Ax - b||_2 using SVD.\n",
    "    \"\"\"\n",
    "    U, s, Vt = np.linalg.svd(A)\n",
    "    d = np.zeros_like(A.T @ b)\n",
    "    d[:len(s)] = 1 / s\n",
    "    x = Vt.T @ np.diag(d) @ U.T @ b\n",
    "    return x\n",
    "\n",
    "# Example usage\n",
    "x = least_squares_svd(A, b)\n",
    "print(\"x:\", x)"
   ]
  },
  {
   "cell_type": "code",
   "execution_count": 51,
   "metadata": {},
   "outputs": [
    {
     "ename": "NameError",
     "evalue": "name 's' is not defined",
     "output_type": "error",
     "traceback": [
      "\u001b[0;31m---------------------------------------------------------------------------\u001b[0m",
      "\u001b[0;31mNameError\u001b[0m                                 Traceback (most recent call last)",
      "\u001b[1;32m/Users/lochan_n/Desktop/NLA/NLA/NLA/Assignment-4/QR.ipynb Cell 14\u001b[0m line \u001b[0;36m1\n\u001b[0;32m----> <a href='vscode-notebook-cell:/Users/lochan_n/Desktop/NLA/NLA/NLA/Assignment-4/QR.ipynb#X21sZmlsZQ%3D%3D?line=0'>1</a>\u001b[0m s\u001b[39m.\u001b[39mshape\n",
      "\u001b[0;31mNameError\u001b[0m: name 's' is not defined"
     ]
    }
   ],
   "source": [
    "s.shape"
   ]
  },
  {
   "cell_type": "code",
   "execution_count": null,
   "metadata": {},
   "outputs": [],
   "source": []
  }
 ],
 "metadata": {
  "kernelspec": {
   "display_name": "Python 3",
   "language": "python",
   "name": "python3"
  },
  "language_info": {
   "codemirror_mode": {
    "name": "ipython",
    "version": 3
   },
   "file_extension": ".py",
   "mimetype": "text/x-python",
   "name": "python",
   "nbconvert_exporter": "python",
   "pygments_lexer": "ipython3",
   "version": "3.11.4"
  }
 },
 "nbformat": 4,
 "nbformat_minor": 2
}
