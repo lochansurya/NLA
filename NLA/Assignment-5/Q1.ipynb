{
 "cells": [
  {
   "cell_type": "markdown",
   "metadata": {},
   "source": [
    "# Page Rank Algorithm using Power iteration method"
   ]
  },
  {
   "cell_type": "code",
   "execution_count": 2,
   "metadata": {},
   "outputs": [],
   "source": [
    "\"\"\"page rank algorithm\"\"\"\n",
    "import numpy as np\n",
    "import seaborn as sns\n",
    "import matplotlib.pyplot as plt\n",
    "import pandas as pd\n",
    "import networkx as nx\n"
   ]
  },
  {
   "cell_type": "markdown",
   "metadata": {},
   "source": [
    "# \n",
    "\\begin{table}[H]\n",
    "    \\centering\n",
    "    \\begin{tabular}{lccc}\n",
    "     \\toprule \\\\\n",
    "     \\textbf{Node} & \\textbf{Outgoing Neighbors} & \\textbf{Count} & \\textbf{probability}\\\\\n",
    "        \\midrule \\\\\n",
    "\n",
    "        0 & {8, 1}& 2 & 0.5\\\\\n",
    "        1 &{2, 7} & 2& 0.5\\\\\n",
    "        2 & {0}& 1& 1\\\\\n",
    "        3& {1}& 1& 1\\\\\n",
    "        4& {5, 7}& 2& 0.5\\\\\n",
    "        5&{6, 9}& 2& 0.5\\\\\n",
    "        6& {2, 8}& 2& 0.5\\\\\n",
    "        7&{5, 8}& 2& 0.5\\\\\n",
    "        8&{1, 9}&2 & 0.5\\\\\n",
    "        9&{7}& 1& 1\\\\\n",
    "        \n",
    "        \\bottomrule\n",
    "    \\end{tabular}\n",
    "    \\caption{Edge Weights Evaluation of the graph}\n",
    "    \\label{tab:my_label}\n",
    "\\end{table}"
   ]
  },
  {
   "cell_type": "code",
   "execution_count": 3,
   "metadata": {},
   "outputs": [],
   "source": [
    "\"\"\" convert into a network with egdes, edge-weights and nodes from the above matrix\"\"\"\n",
    "def convert_to_network(matrix):\n",
    "    G = nx.DiGraph()\n",
    "    for i in range(len(matrix)):\n",
    "        for j in range(len(matrix)):\n",
    "            if matrix[i][j] != 0:\n",
    "                G.add_edge(i, j, weight = matrix[i][j])\n",
    "    return G\n",
    "\n",
    "\"\"\"calculate the page rank of the network\"\"\"\n",
    "def page_rank(G):\n",
    "    return nx.pagerank(G)\n",
    "\n"
   ]
  },
  {
   "cell_type": "code",
   "execution_count": 4,
   "metadata": {},
   "outputs": [
    {
     "data": {
      "text/plain": [
       "array([[0. , 0.5, 0. , 0. , 0. , 0. , 0. , 0. , 0.5, 0. ],\n",
       "       [0. , 0. , 0.5, 0. , 0. , 0. , 0. , 0.5, 0. , 0. ],\n",
       "       [1. , 0. , 0. , 0. , 0. , 0. , 0. , 0. , 0. , 0. ],\n",
       "       [0. , 1. , 0. , 0. , 0. , 0. , 0. , 0. , 0. , 0. ],\n",
       "       [0. , 0. , 0. , 0. , 0. , 0.5, 0. , 0.5, 0. , 0. ],\n",
       "       [0. , 0. , 0. , 0. , 0. , 0. , 0.5, 0. , 0. , 0.5],\n",
       "       [0. , 0. , 0.5, 0. , 0. , 0. , 0. , 0. , 0.5, 0. ],\n",
       "       [0. , 0. , 0. , 0. , 0. , 0.5, 0. , 0. , 0.5, 0. ],\n",
       "       [0. , 0.5, 0. , 0. , 0. , 0. , 0. , 0. , 0. , 0.5],\n",
       "       [0. , 0. , 0. , 0. , 0. , 0. , 0. , 1. , 0. , 0. ]])"
      ]
     },
     "execution_count": 4,
     "metadata": {},
     "output_type": "execute_result"
    }
   ],
   "source": [
    "\"\"\"initialize a 10 by 10 matrix with all zeros\"\"\"\n",
    "transition_matrix = np.zeros((10, 10))\n",
    "transition_matrix[0][1] = 0.5\n",
    "transition_matrix[0][8] = 0.5\n",
    "transition_matrix[1][2] = 0.5\n",
    "transition_matrix[1][7] = 0.5\n",
    "transition_matrix[2][0] = 1.0\n",
    "transition_matrix[3][1] = 1.0\n",
    "transition_matrix[4][5] = 0.5\n",
    "transition_matrix[4][7] = 0.5\n",
    "transition_matrix[5][6] = 0.5\n",
    "transition_matrix[5][9] = 0.5\n",
    "transition_matrix[6][2] = 0.5\n",
    "transition_matrix[6][8] = 0.5\n",
    "transition_matrix[7][5] = 0.5\n",
    "transition_matrix[7][8] = 0.5\n",
    "transition_matrix[8][1] = 0.5\n",
    "transition_matrix[8][9] = 0.5\n",
    "transition_matrix[9][7] = 1.0\n",
    "transition_matrix"
   ]
  },
  {
   "cell_type": "markdown",
   "metadata": {},
   "source": [
    "# In-built page rank algorithm"
   ]
  },
  {
   "cell_type": "code",
   "execution_count": 5,
   "metadata": {},
   "outputs": [
    {
     "name": "stdout",
     "output_type": "stream",
     "text": [
      "Page rank of the network is:  {0: 0.09863627405577377, 1: 0.13823979964883046, 8: 0.16133742593203582, 2: 0.09839626652322582, 7: 0.18769899564477366, 3: 0.015000000000000003, 4: 0.015000000000000003, 5: 0.10114665831752459, 6: 0.05798792455806254, 9: 0.1265566553197736}\n"
     ]
    }
   ],
   "source": [
    "G=convert_to_network(transition_matrix)\n",
    "print(\"Page rank of the network is: \", page_rank(G))"
   ]
  },
  {
   "cell_type": "code",
   "execution_count": null,
   "metadata": {},
   "outputs": [],
   "source": []
  },
  {
   "cell_type": "code",
   "execution_count": 6,
   "metadata": {},
   "outputs": [
    {
     "data": {
      "text/plain": [
       "array([0.09863627, 0.1382398 , 0.09839627, 0.015     , 0.015     ,\n",
       "       0.10114666, 0.05798792, 0.187699  , 0.16133743, 0.12655666])"
      ]
     },
     "execution_count": 6,
     "metadata": {},
     "output_type": "execute_result"
    }
   ],
   "source": [
    "\"\"\" initializing the reference page rank vector\"\"\"\n",
    "reference_page_rank_vector = np.zeros(10, dtype = float)\n",
    "for i in range(10):\n",
    "    reference_page_rank_vector[i] = page_rank(G)[i]\n",
    "reference_page_rank_vector"
   ]
  },
  {
   "cell_type": "markdown",
   "metadata": {},
   "source": [
    "## (a)\n",
    "#### Plot of the 2-norm of the residual of eigenvalue problem involving the dominant\n",
    "#### eigenvector with iteration number. (Use the unit vector generated at the end of\n",
    "#### each iteration in your power iteration algorithm to compute the eigenvalue problem\n",
    "#### residual at each iteration)\n"
   ]
  },
  {
   "cell_type": "markdown",
   "metadata": {},
   "source": [
    "## (b)\n",
    "#### Plot of the 2-norm of the difference between the vectors corresponding to the\n",
    "#### successive iterates of your power iteration with number of iterations."
   ]
  },
  {
   "cell_type": "markdown",
   "metadata": {},
   "source": [
    "## (c) \n",
    "#### Compute the Rayleigh quotient at each iteration of your algorithm and plot the\n",
    "#### convergence with respect to iteration number."
   ]
  },
  {
   "cell_type": "markdown",
   "metadata": {},
   "source": [
    "## (d)\n",
    "#### State the node numbers with least and highest page ranks."
   ]
  },
  {
   "cell_type": "code",
   "execution_count": 8,
   "metadata": {},
   "outputs": [
    {
     "name": "stdout",
     "output_type": "stream",
     "text": [
      "Random vector  0  is:  [0.16374649 0.49489776 0.2771365  0.47202545 0.35398527 0.33423208\n",
      " 0.05036567 0.01674007 0.43277677 0.03900393]\n",
      "Random vector  1  is:  [0.20078251 0.42828634 0.47287851 0.21416344 0.05125201 0.36399513\n",
      " 0.49679623 0.10277505 0.33802694 0.00514724]\n",
      "Random vector  2  is:  [0.57716164 0.030206   0.1028643  0.1322496  0.1302072  0.46959716\n",
      " 0.33121089 0.34169155 0.40260775 0.1089901 ]\n",
      "Random vector  3  is:  [0.3065128  0.23292454 0.46586838 0.02436988 0.07779845 0.31846849\n",
      " 0.08859399 0.33022318 0.48838962 0.41385188]\n",
      "Random vector  4  is:  [0.40792883 0.31732089 0.17852802 0.41165436 0.3862456  0.07330235\n",
      " 0.33162438 0.49656368 0.10262179 0.09964741]\n",
      "Random vector  5  is:  [0.08397177 0.47541102 0.08239731 0.50164183 0.23355545 0.34250409\n",
      " 0.09952265 0.44246658 0.31766453 0.17334898]\n",
      "Random vector  6  is:  [0.45614207 0.34046336 0.24632604 0.05315536 0.08389827 0.37545158\n",
      " 0.41421807 0.3099558  0.33065005 0.29586421]\n",
      "Random vector  7  is:  [0.05532005 0.15233556 0.34886571 0.22683229 0.31978127 0.09689017\n",
      " 0.10923115 0.62295327 0.30703877 0.44119225]\n",
      "Random vector  8  is:  [0.20594597 0.45822663 0.24089551 0.01806953 0.06185765 0.44024701\n",
      " 0.64722431 0.076342   0.12672918 0.22544615]\n",
      "Random vector  9  is:  [0.2693557  0.33012322 0.18844638 0.03881743 0.06539013 0.59006632\n",
      " 0.40248312 0.46928459 0.12383799 0.17730388]\n"
     ]
    }
   ],
   "source": [
    "\"\"\"Generate 10 random vectors each of length 10 with entries between 0 and 1 and normalize them\"\"\"\n",
    "random_vectors = np.random.rand(10, 10)\n",
    "for i in range(10):\n",
    "    random_vectors[i] = random_vectors[i]/np.linalg.norm(random_vectors[i])\n",
    "\n",
    "for i in range(10):\n",
    "    print(\"Random vector \", i, \" is: \", random_vectors[i])\n"
   ]
  },
  {
   "cell_type": "code",
   "execution_count": 15,
   "metadata": {},
   "outputs": [
    {
     "name": "stdout",
     "output_type": "stream",
     "text": [
      "Random vector  0  after exchange is:  [0.16374649 0.01674007 0.2771365  0.47202545 0.35398527 0.33423208\n",
      " 0.05036567 0.49489776 0.43277677 0.03900393]\n",
      "Random vector  1  after exchange is:  [0.20078251 0.42828634 0.47287851 0.21416344 0.05125201 0.36399513\n",
      " 0.10277505 0.49679623 0.33802694 0.00514724]\n",
      "Random vector  2  after exchange is:  [0.34169155 0.030206   0.1028643  0.1322496  0.1302072  0.46959716\n",
      " 0.33121089 0.57716164 0.40260775 0.1089901 ]\n",
      "Random vector  3  after exchange is:  [0.3065128  0.23292454 0.46586838 0.02436988 0.07779845 0.31846849\n",
      " 0.08859399 0.48838962 0.33022318 0.41385188]\n",
      "Random vector  4  after exchange is:  [0.40792883 0.31732089 0.17852802 0.41165436 0.3862456  0.07330235\n",
      " 0.33162438 0.49656368 0.10262179 0.09964741]\n",
      "Random vector  5  after exchange is:  [0.08397177 0.47541102 0.08239731 0.44246658 0.23355545 0.34250409\n",
      " 0.09952265 0.50164183 0.31766453 0.17334898]\n",
      "Random vector  6  after exchange is:  [0.3099558  0.34046336 0.24632604 0.05315536 0.08389827 0.37545158\n",
      " 0.41421807 0.45614207 0.33065005 0.29586421]\n",
      "Random vector  7  after exchange is:  [0.05532005 0.15233556 0.34886571 0.22683229 0.31978127 0.09689017\n",
      " 0.10923115 0.62295327 0.30703877 0.44119225]\n",
      "Random vector  8  after exchange is:  [0.20594597 0.45822663 0.24089551 0.01806953 0.06185765 0.44024701\n",
      " 0.076342   0.64722431 0.12672918 0.22544615]\n",
      "Random vector  9  after exchange is:  [0.2693557  0.33012322 0.18844638 0.03881743 0.06539013 0.46928459\n",
      " 0.40248312 0.59006632 0.12383799 0.17730388]\n"
     ]
    }
   ],
   "source": [
    "\"\"\"exchange the maximum element of the random vector with its 8th element\"\"\"\n",
    "for i in range(10):\n",
    "    max_element = np.argmax(random_vectors[i])\n",
    "    random_vectors[i][max_element], random_vectors[i][7] = random_vectors[i][7], random_vectors[i][max_element]\n",
    "    print(\"Random vector \", i, \" after exchange is: \", random_vectors[i])\n"
   ]
  },
  {
   "cell_type": "code",
   "execution_count": 17,
   "metadata": {},
   "outputs": [
    {
     "name": "stdout",
     "output_type": "stream",
     "text": [
      "Page rank vector for random vector  0  is:  [0.23442242 0.40261482 0.17078715 0.01745985 0.43239009 0.04660613\n",
      " 0.3702188  0.39999407 0.02907042 0.51617702]\n",
      "error with respect to the reference page rank vector is:  {0.9811708246817272: 100000}\n",
      "Page rank vector for random vector  1  is:  [0.3267399  0.41344895 0.1712189  0.36522461 0.36702336 0.0460158\n",
      " 0.34575306 0.29932747 0.18480698 0.42364696]\n",
      "error with respect to the reference page rank vector is:  {0.792070958916472: 100000}\n",
      "Page rank vector for random vector  2  is:  [0.1980061  0.31110213 0.31263799 0.02763763 0.47887717 0.20138565\n",
      " 0.23124623 0.39902126 0.06368023 0.52808638]\n",
      "error with respect to the reference page rank vector is:  {0.8247699416688271: 100000}\n",
      "Page rank vector for random vector  3  is:  [0.24812817 0.42045503 0.27010484 0.20525748 0.35550926 0.22138237\n",
      " 0.35076541 0.28581964 0.28497576 0.4303781 ]\n",
      "error with respect to the reference page rank vector is:  {0.5552099099190956: 100000}\n",
      "Page rank vector for random vector  4  is:  [0.22506775 0.36181456 0.43725791 0.34013547 0.305419   0.23113958\n",
      " 0.15068189 0.09428632 0.22347364 0.53226538]\n",
      "error with respect to the reference page rank vector is:  {0.7316079809543787: 100000}\n",
      "Page rank vector for random vector  5  is:  [0.36532449 0.26903339 0.07736197 0.43798926 0.38884968 0.12569633\n",
      " 0.18428558 0.30410187 0.29884657 0.46215533]\n",
      "error with respect to the reference page rank vector is:  {0.5682326906986048: 100000}\n",
      "Page rank vector for random vector  6  is:  [0.29845759 0.31240166 0.27568712 0.30282177 0.36982637 0.31578783\n",
      " 0.25659284 0.31401755 0.28298763 0.40571105]\n",
      "error with respect to the reference page rank vector is:  {0.4569604195265725: 100000}\n",
      "Page rank vector for random vector  7  is:  [0.21466112 0.45412148 0.05170103 0.14236983 0.33637578 0.25720746\n",
      " 0.30649773 0.18875203 0.27734972 0.5821999 ]\n",
      "error with respect to the reference page rank vector is:  {0.6972026192767278: 100000}\n",
      "Page rank vector for random vector  8  is:  [0.2385339  0.36215844 0.16796174 0.37371228 0.44345021 0.12306349\n",
      " 0.14991038 0.23120215 0.27878881 0.52785164]\n",
      "error with respect to the reference page rank vector is:  {0.8254504139620586: 100000}\n",
      "Page rank vector for random vector  9  is:  [0.2010926  0.34486017 0.23863465 0.2924714  0.46926394 0.25683003\n",
      " 0.13833357 0.26273734 0.22477654 0.52276699]\n",
      "error with respect to the reference page rank vector is:  {0.7657935931190161: 100000}\n"
     ]
    }
   ],
   "source": [
    "\"\"\"power iteration method of finding the page rank\"\"\"\n",
    "def power_iteration_method(matrix, reference_vector,init_vector, tolerance= 1e-3, MAX_ITER=100000):\n",
    "    \"\"\"initialize the page rank vector\"\"\"\n",
    "    page_rank_vector=init_vector\n",
    "    residual_two_norm_ref=dict()\n",
    "    residua_two_norm_iter=dict()\n",
    "    residual_eigen_vector_two_norm_ref=dict()\n",
    "    \"\"\"calculate the page rank vector until the tolerance is reached\"\"\"\n",
    "    iter = 0\n",
    "    while iter < MAX_ITER:\n",
    "        iter+=1\n",
    "        new_page_rank_vector = np.dot(matrix, page_rank_vector)\n",
    "        new_page_rank_vector = new_page_rank_vector / np.linalg.norm(new_page_rank_vector, 2)\n",
    "        residual_two_norm_ref[np.linalg.norm(new_page_rank_vector - reference_vector, 2)]= iter\n",
    "        residual_eigen_vector_two_norm_ref[np.linalg.norm(new_page_rank_vector-page_rank_vector)]= iter\n",
    "        residua_two_norm_iter[np.linalg.norm(new_page_rank_vector - page_rank_vector, 2)]= iter\n",
    "        if np.linalg.norm(new_page_rank_vector - reference_vector, 2) < tolerance:\n",
    "            break\n",
    "    page_rank_vector = new_page_rank_vector\n",
    "    return page_rank_vector, residual_eigen_vector_two_norm_ref, residual_two_norm_ref, residua_two_norm_iter\n",
    "\n",
    "page_rank_vector, x_plot_a, x_plot_b, x_plot_c = power_iteration_method(transition_matrix, reference_page_rank_vector, 10000)\n",
    "\"\"\"call the power iteration method for all the random vectors\"\"\"\n",
    "for i in range(10):\n",
    "    print(\"Page rank vector for random vector \", i, \" is: \", power_iteration_method(transition_matrix, reference_page_rank_vector, random_vectors[i])[0])\n",
    "    print(\"error with respect to the reference page rank vector is: \", power_iteration_method(transition_matrix, reference_page_rank_vector, random_vectors[i])[1])\n",
    "\n",
    "# \"\"\"calculate the page rank using power iteration method\"\"\"\n",
    "# power_iteration_method(transition_matrix, reference_page_rank_vector)\n",
    "\n",
    "# \"\"\"calculate the page rank using power iteration method for different values of alpha\"\"\"\n",
    "# alpha = np.linspace(0, 1, 10)\n",
    "# page_rank_vector = []\n",
    "# for i in alpha:\n",
    "#     page_rank_vector.append(power_iteration_method(transition_matrix, i, 100))\n",
    "#     \"\"\"calculate the error with respect to the reference page rank vector\"\"\"\n",
    "#     error = np.linalg.norm(page_rank_vector - reference_page_rank_vector)\n",
    "#     print(\"Error for alpha = \", i, \" is: \", error)\n",
    "# page_rank_vector = np.array(page_rank_vector)\n",
    "# page_rank_vector\n",
    "\n"
   ]
  },
  {
   "cell_type": "code",
   "execution_count": 57,
   "metadata": {},
   "outputs": [],
   "source": [
    "\"\"\"power iteration method of finding the page rank\"\"\"\n",
    "def power_iteration_method(matrix, reference_vector,MAX_ITER,tolerance= 1e-3):\n",
    "    \"\"\"initialize the page rank vector\"\"\"\n",
    "    page_rank_vector=np.ones(len(matrix))/ np.linalg.norm(np.ones(len(matrix)), 2)\n",
    "    residual_two_norm_ref=dict()\n",
    "    residua_two_norm_iter=dict()\n",
    "    residual_eigen_vector_two_norm_ref=dict()\n",
    "    \"\"\"calculate the page rank vector until the tolerance is reached\"\"\"\n",
    "    iter = 0\n",
    "    while iter<MAX_ITER:\n",
    "        iter+=1\n",
    "        new_page_rank_vector = np.dot(matrix, page_rank_vector)\n",
    "        new_page_rank_vector = new_page_rank_vector / np.linalg.norm(new_page_rank_vector, 2)\n",
    "        residual_two_norm_ref[np.linalg.norm(new_page_rank_vector - reference_vector, 2)]= iter\n",
    "        residual_eigen_vector_two_norm_ref[np.linalg.norm(new_page_rank_vector-page_rank_vector)]= iter\n",
    "        residua_two_norm_iter[np.linalg.norm(new_page_rank_vector - page_rank_vector, 2)]= iter\n",
    "        if np.linalg.norm(new_page_rank_vector - reference_vector, 2) < tolerance:\n",
    "            break\n",
    "    page_rank_vector = new_page_rank_vector\n",
    "    return page_rank_vector, residual_eigen_vector_two_norm_ref, residual_two_norm_ref, residua_two_norm_iter\n",
    "\n",
    "page_rank_vector, x_plot_a, x_plot_b, x_plot_c = power_iteration_method(transition_matrix, reference_page_rank_vector, 10000)"
   ]
  },
  {
   "cell_type": "code",
   "execution_count": 58,
   "metadata": {},
   "outputs": [
    {
     "data": {
      "text/plain": [
       "array([0.31622777, 0.31622777, 0.31622777, 0.31622777, 0.31622777,\n",
       "       0.31622777, 0.31622777, 0.31622777, 0.31622777, 0.31622777])"
      ]
     },
     "execution_count": 58,
     "metadata": {},
     "output_type": "execute_result"
    }
   ],
   "source": [
    "page_rank_vector"
   ]
  },
  {
   "cell_type": "code",
   "execution_count": null,
   "metadata": {},
   "outputs": [],
   "source": []
  }
 ],
 "metadata": {
  "kernelspec": {
   "display_name": "base",
   "language": "python",
   "name": "python3"
  },
  "language_info": {
   "codemirror_mode": {
    "name": "ipython",
    "version": 3
   },
   "file_extension": ".py",
   "mimetype": "text/x-python",
   "name": "python",
   "nbconvert_exporter": "python",
   "pygments_lexer": "ipython3",
   "version": "3.11.4"
  }
 },
 "nbformat": 4,
 "nbformat_minor": 2
}
